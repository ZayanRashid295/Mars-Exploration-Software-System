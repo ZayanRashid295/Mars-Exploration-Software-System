import random

class MartianGrid:
    def __init__(self, width, height):
        self.width = width
        self.height = height
        self.grid = [['empty' for _ in range(width)] for _ in range(height)]
        self.rocks = []

    def populate_grid(self, num_rocks, num_rovers, num_aliens):
        if num_rocks + num_rovers + num_aliens > self.width * self.height:
            raise ValueError("Total number of objects exceeds grid size.")
        
        # Place rocks
        for _ in range(num_rocks):
            x = random.randint(0, self.width - 1)
            y = random.randint(0, self.height - 1)
            while self.grid[y][x] != 'empty':
                x = random.randint(0, self.width - 1)
                y = random.randint(0, self.height - 1)
            self.grid[y][x] = 'rock'
            self.rocks.append((x, y))  # Add rock coordinates to the rocks list

        # Place rovers
        for _ in range(num_rovers):
            x = random.randint(0, self.width - 1)
            y = random.randint(0, self.height - 1)
            while self.grid[y][x] != 'empty':
                x = random.randint(0, self.width - 1)
                y = random.randint(0, self.height - 1)
            self.grid[y][x] = 'rover'

        # Place aliens
        for _ in range(num_aliens):
            x = random.randint(0, self.width - 1)
            y = random.randint(0, self.height - 1)
            while self.grid[y][x] != 'empty':
                x = random.randint(0, self.width - 1)
                y = random.randint(0, self.height - 1)
            self.grid[y][x] = 'alien'

    def wrap_coordinates(self, x, y):
        # Wrap x coordinate around the grid edges
        x %= self.width
        # Wrap y coordinate around the grid edges
        y %= self.height
        return x, y

class Rover:
    def __init__(self, x, y):
        self.x = x
        self.y = y
        self.battery = 100
        self.rock = None
        self.detected_rocks = []

    def move(self, direction, grid):
        directions = {'up': (0, -1), 'down': (0, 1), 'left': (-1, 0), 'right': (1, 0)}
        dx, dy = directions[direction]
        new_x = self.x + dx
        new_y = self.y + dy
        self.x, self.y = grid.wrap_coordinates(new_x, new_y)

    def scan(self, grid):
        self.detected_rocks = []
        for dx in range(-1, 2):
            for dy in range(-1, 2):
                x, y = grid.wrap_coordinates(self.x + dx, self.y + dy)
                if grid.grid[y][x] == 'rock':
                    self.detected_rocks.append((x, y))
                elif grid.grid[y][x] == 'alien':
                    # Handle alien detection
                    pass

    def collect_rock(self, rock):
        self.rock = rock
        print("Rock collected by Rover.")

    def return_to_spacecraft(self, spacecraft, grid):
        if self.rock:
            distance_to_spacecraft = ((self.x - spacecraft.x) ** 2 + (self.y - spacecraft.y) ** 2) ** 0.5
            if distance_to_spacecraft <= 1:
                spacecraft.retrieve_rock(self)
                self.rock = None
            else:
                self.move_towards_spacecraft(spacecraft, grid)
        else:
            print("Rover doesn't have a rock to deposit.")

    def move_towards_spacecraft(self, spacecraft, grid):
        directions = ['up', 'down', 'left', 'right']
        dx = spacecraft.x - self.x
        dy = spacecraft.y - self.y
        if abs(dx) > abs(dy):
            if dx > 0:
                direction = 'right'
            else:
                direction = 'left'
        else:
            if dy > 0:
                direction = 'down'
            else:
                direction = 'up'
        self.move(direction, grid)

    def share_battery(self, other_rover):
        if self.battery > 0 and other_rover.battery < 100:
            battery_to_share = min(self.battery, 100 - other_rover.battery)
            self.battery -= battery_to_share
            other_rover.battery += battery_to_share
            print(f"Battery shared: {battery_to_share}% from Rover at ({self.x}, {self.y}) to Rover at ({other_rover.x}, {other_rover.y})")
        else:
            print("Battery sharing not possible.")

    def recharge(self):
        self.battery = 100
        print(f"Rover at ({self.x}, {self.y}) recharged.")

    def attacked_by_alien(self):
        self.battery -= 25
        print(f"Rover at ({self.x}, {self.y}) has been attacked. Energy remaining: {self.battery}%.")



class Spacecraft:
    def __init__(self, x, y):
        self.x = x
        self.y = y

    def retrieve_rock(self, rover):
        # Retrieve a rock from a rover
        if rover.rock:
            print(f"Rock retrieved from Rover at ({rover.x}, {rover.y}).")
            return rover.rock
        else:
            print("No rock to retrieve from Rover.")

class Alien:
    def __init__(self, x, y):
        self.x = x
        self.y = y
        self.energy = 100

    def move(self, grid):
        pass

    def hibernate(self):
        self.energy = 100
        print("Alien is hibernating and restoring energy.")


class Simulation:
    def __init__(self, grid_width, grid_height, num_rocks, num_rovers, num_aliens):
        self.grid = MartianGrid(grid_width, grid_height)
        self.grid.populate_grid(num_rocks, num_rovers, num_aliens)
        self.spacecraft = Spacecraft(grid_width // 2, grid_height // 2)
        self.rovers = [Rover(random.randint(0, grid_width - 1), random.randint(0, grid_height - 1)) for _ in range(num_rovers)]
        self.aliens = [Alien(random.randint(0, grid_width - 1), random.randint(0, grid_height - 1)) for _ in range(num_aliens)]

    def start(self):
        steps = 0
        while True:
            print(f"Step {steps}:")
            self.perform_actions()
            steps += 1
            if self.is_simulation_complete():
                print("Simulation complete: All rocks collected.")
                break

    def perform_actions(self):
        for rover in self.rovers:
            rover.scan(self.grid)
            rover.return_to_spacecraft(self.spacecraft, self.grid)
            for other_rover in self.rovers:
                if other_rover != rover:
                    distance_to_other_rover = ((rover.x - other_rover.x) ** 2 + (rover.y - other_rover.y) ** 2) ** 0.5
                    if distance_to_other_rover <= 1:
                        rover.share_battery(other_rover)
            if rover.rock is None:
                self.collect_rock_for_rover(rover)
            if random.random() < 0.1:  # 10% chance of being attacked by an alien
                rover.attacked_by_alien()

        for alien in self.aliens:
            if random.random() < 0.1:  # 10% chance of hibernating
                alien.hibernate()

    def collect_rock_for_rover(self, rover):
        nearest_rock = self.find_nearest_rock(rover)
        if nearest_rock:
            rover.collect_rock(nearest_rock)
            self.grid.grid[nearest_rock[1]][nearest_rock[0]] = 'empty'

    def find_nearest_rock(self, rover):
        nearest_rock = None
        min_distance = float('inf')
        for rock_x, rock_y in rover.detected_rocks:
            distance = ((rover.x - rock_x) ** 2 + (rover.y - rock_y) ** 2) ** 0.5
            if distance < min_distance:
                nearest_rock = (rock_x, rock_y)
                min_distance = distance
        return nearest_rock

    def is_simulation_complete(self):
        return all(rover.rock is None for rover in self.rovers)


# Example usage:
simulation = Simulation(20, 20, 10, 5, 20)
simulation.start()